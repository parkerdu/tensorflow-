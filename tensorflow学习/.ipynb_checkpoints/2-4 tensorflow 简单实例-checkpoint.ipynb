{
 "cells": [
  {
   "cell_type": "code",
   "execution_count": 1,
   "metadata": {},
   "outputs": [],
   "source": [
    "import tensorflow as tf\n",
    "import numpy as np"
   ]
  },
  {
   "cell_type": "code",
   "execution_count": 5,
   "metadata": {},
   "outputs": [
    {
     "name": "stdout",
     "output_type": "stream",
     "text": [
      "0 [0.08084179, 0.36]\n",
      "20 [0.040340703, 0.23131178]\n",
      "40 [0.05542582, 0.2230356]\n",
      "60 [0.06680513, 0.21715371]\n",
      "80 [0.07527975, 0.21277437]\n",
      "100 [0.08159082, 0.20951308]\n",
      "120 [0.08629067, 0.2070844]\n",
      "140 [0.08979067, 0.20527574]\n",
      "160 [0.09239711, 0.20392884]\n",
      "180 [0.09433811, 0.20292583]\n",
      "200 [0.09578359, 0.20217887]\n"
     ]
    }
   ],
   "source": [
    "# 使用numpy生成100个随机点\n",
    "x_data = np.random.rand(100)\n",
    "y_data = x_data*0.1 + 0.2\n",
    "\n",
    "# 构造一个线性模型拟合上面的一次函数\n",
    "b = tf.Variable(0.4)\n",
    "k = tf.Variable(0.1)\n",
    "y = k*x_data + b\n",
    "\n",
    "# 二次代价函数 最小二乘均方差\n",
    "loss = tf.reduce_mean(tf.square(y_data-y))\n",
    "# 定义一个梯度下降 进行优化\n",
    "optimizer = tf.train.GradientDescentOptimizer(0.1)  # 学习率0.2\n",
    "# 最小化代价函数\n",
    "train = optimizer.minimize(loss)\n",
    "\n",
    "# 由于前面用到变量所以初始化\n",
    "init = tf.global_variables_initializer()\n",
    "config = tf.ConfigProto()\n",
    "config.gpu_options.allow_growth = True\n",
    "config.gpu_options.per_process_gpu_memory_fraction = 0.5\n",
    "with tf.Session(config=config) as sess:\n",
    "    \n",
    "    sess = tf.Session(config=config)\n",
    "    sess.run(init)\n",
    "    for step in range(201):\n",
    "        sess.run(train)\n",
    "        if step%20 == 0:  # 每20次打印k, b\n",
    "            print(step, sess.run([k,b]))"
   ]
  },
  {
   "cell_type": "code",
   "execution_count": null,
   "metadata": {},
   "outputs": [],
   "source": []
  }
 ],
 "metadata": {
  "kernelspec": {
   "display_name": "Python tensorflow",
   "language": "python",
   "name": "tensorflow"
  },
  "language_info": {
   "codemirror_mode": {
    "name": "ipython",
    "version": 3
   },
   "file_extension": ".py",
   "mimetype": "text/x-python",
   "name": "python",
   "nbconvert_exporter": "python",
   "pygments_lexer": "ipython3",
   "version": "3.6.2"
  }
 },
 "nbformat": 4,
 "nbformat_minor": 2
}
